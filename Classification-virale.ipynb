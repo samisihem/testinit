{
  "nbformat": 4,
  "nbformat_minor": 0,
  "metadata": {
    "kernelspec": {
      "name": "python3",
      "display_name": "Python 3"
    },
    "colab": {
      "name": "slm_tutorial_fr.ipynb",
      "provenance": [],
      "include_colab_link": true
    },
    "language_info": {
      "name": "python"
    },
    "accelerator": "GPU"
  },
  "cells": [
    {
      "cell_type": "markdown",
      "metadata": {
        "id": "view-in-github",
        "colab_type": "text"
      },
      "source": [
        "<a href=\"https://colab.research.google.com/github/samisihem/testinit/blob/master/Classification-virale.ipynb\" target=\"_parent\"><img src=\"https://colab.research.google.com/assets/colab-badge.svg\" alt=\"Open In Colab\"/></a>"
      ]
    },
    {
      "cell_type": "code",
      "metadata": {
        "id": "IxrhwYVlXdaD",
        "colab": {
          "base_uri": "https://localhost:8080/"
        },
        "outputId": "71a599eb-6283-4b4d-92b7-6ad84051fa10"
      },
      "source": [
        "pip install biopython"
      ],
      "execution_count": 1,
      "outputs": [
        {
          "output_type": "stream",
          "text": [
            "Collecting biopython\n",
            "\u001b[?25l  Downloading https://files.pythonhosted.org/packages/3a/cd/0098eaff841850c01da928c7f509b72fd3e1f51d77b772e24de9e2312471/biopython-1.78-cp37-cp37m-manylinux1_x86_64.whl (2.3MB)\n",
            "\u001b[K     |████████████████████████████████| 2.3MB 4.3MB/s \n",
            "\u001b[?25hRequirement already satisfied: numpy in /usr/local/lib/python3.7/dist-packages (from biopython) (1.19.5)\n",
            "Installing collected packages: biopython\n",
            "Successfully installed biopython-1.78\n"
          ],
          "name": "stdout"
        }
      ]
    },
    {
      "cell_type": "code",
      "metadata": {
        "id": "Fa4ajSnFajmg"
      },
      "source": [
        "# Import Biopython functions\n",
        "from Bio import SeqIO"
      ],
      "execution_count": 46,
      "outputs": []
    },
    {
      "cell_type": "code",
      "metadata": {
        "id": "9P7Y-AQ2aGd3"
      },
      "source": [
        "# Initialize an empty dictionary\n",
        "targets = {}\n",
        "# Iterate through the entire fasta file\n",
        "for sequence_record in SeqIO.parse(\"HIV.fa\", \"fasta\"):\n",
        "    # Get the index of the separator\n",
        "    index = sequence_record.id.index(\".\")\n",
        "    # Get the target\n",
        "    target = sequence_record.id[index + 1:]\n",
        "    # If the target exists, increment its value by 1. \n",
        "    if target in targets.keys(): targets[target] = targets[target] + 1\n",
        "    # Else we add the target to the dictionary with an initial value of 1 \n",
        "    else: targets[target] = 1"
      ],
      "execution_count": 184,
      "outputs": []
    },
    {
      "cell_type": "code",
      "metadata": {
        "colab": {
          "base_uri": "https://localhost:8080/"
        },
        "id": "3kwbPVQLcmEv",
        "outputId": "cde8571c-9daf-42f7-864a-214d9c16d90b"
      },
      "source": [
        "# Get data information before cleaning\n",
        "n_targets = len(targets.keys())\n",
        "n_sequences = sum(targets.values())\n",
        "min_instances = min(targets.values())\n",
        "max_instances = max(targets.values())\n",
        "\n",
        "# Display data information before cleaning\n",
        "print(\"Data information before cleaning:\")\n",
        "print(\"Number of sequences = \", n_sequences)\n",
        "print(\"Number of targets = \", n_targets)\n",
        "print(\"Minimum number of instances = \", min_instances)\n",
        "print(\"Maximum number of instances = \", max_instances)"
      ],
      "execution_count": 185,
      "outputs": [
        {
          "output_type": "stream",
          "text": [
            "Data information before cleaning:\n",
            "Number of sequences =  13540\n",
            "Number of targets =  244\n",
            "Minimum number of instances =  1\n",
            "Maximum number of instances =  6792\n"
          ],
          "name": "stdout"
        }
      ]
    },
    {
      "cell_type": "code",
      "metadata": {
        "id": "Wjh8nG-ccvR-"
      },
      "source": [
        "# Define tables for the cleaning step\n",
        "removed_targets = []\n",
        "specific_retained_targets = [\"A1\", \"A2\", \"A3\", \"A4\" \"A6\", \"F1\", \"F2\",\"0107\", \"AD\",\"ACD\", \"02G\", \"CD\", \"01C\",\"02B\", \"BF1\",\"01B\", \"01BC\", \"BC\", \"BG\"]\n",
        "specific_excluded_targets = [\"-\", \"U\", \"A1B\", \"A1C\", \"A1CD\", \"A1D\", \"02A\", \"02A1\"]\n",
        "\n",
        "\n",
        "# Iterate through the targets dictionary\n",
        "for key, value in targets.items():\n",
        "    # If the number of instances is greater than ten and the target is not in specific_excluded_targets or if the target is in specific_retained_targets, then pass\n",
        "    if (value >= 5 and key not in specific_excluded_targets) or (key in specific_retained_targets): pass\n",
        "    # Else add in removed_targets\n",
        "    else: removed_targets.append(key)\n",
        "\n",
        "# Remove unwanted targets for the dictionary\n",
        "for target in removed_targets: del targets[target]"
      ],
      "execution_count": 187,
      "outputs": []
    },
    {
      "cell_type": "code",
      "metadata": {
        "id": "Bd5oBjQYc-4j"
      },
      "source": [
        "# Initialize our data table [Id, Sequence, Target]\n",
        "data = []\n",
        "# Iterate through the entire fasta file\n",
        "for sequence_record in SeqIO.parse(\"HIV.fa\", \"fasta\"):\n",
        "    # Get the index of the separator\n",
        "    index = sequence_record.id.index(\".\")\n",
        "    # Get the target\n",
        "    target = sequence_record.id[index + 1:]\n",
        "    # If the current target is in the dictionary\n",
        "    if target in targets.keys():\n",
        "        # Initialize a temporary target\n",
        "        temporary_target = None\n",
        "        # If subtype A under then merge on the same target\n",
        "        if target[0] == \"A\": temporary_target = \"A\"\n",
        "        # If subtype F under then merge on the same target\n",
        "        elif target[0] == \"F\": temporary_target = \"F\"\n",
        "        # Else keep the original target\n",
        "        else: temporary_target = target\n",
        "        # Save the information in the data table\n",
        "        data.append([temporary_target, str(sequence_record.seq).upper(), temporary_target])"
      ],
      "execution_count": 188,
      "outputs": []
    },
    {
      "cell_type": "code",
      "metadata": {
        "id": "S2RbYvUadfYH"
      },
      "source": [
        "# Updating the dictionary by first clearing it up\n",
        "targets.clear()\n",
        "# Iterate through the entire fasta file\n",
        "for d in data:\n",
        "    # Get the target\n",
        "    target = d[2]\n",
        "    # If the target exists, increment its value by 1 \n",
        "    if target in targets.keys(): targets[target] = targets[target] + 1\n",
        "    # Else we add the target to the dictionary with an initial value of 1 \n",
        "    else: targets[target] = 1"
      ],
      "execution_count": 189,
      "outputs": []
    },
    {
      "cell_type": "code",
      "metadata": {
        "colab": {
          "base_uri": "https://localhost:8080/"
        },
        "id": "76_v6B4udPns",
        "outputId": "92e25909-a441-456c-8fd4-03564a50daec"
      },
      "source": [
        "# Get Data information after selection\n",
        "n_targets = len(targets.keys())\n",
        "n_sequences = sum(targets.values())\n",
        "min_instances = min(targets.values())\n",
        "max_instances = max(targets.values())\n",
        "\n",
        "# Dipslay data information after selection\n",
        "print(\"Data information after cleaning:\")\n",
        "print(\"Number of sequences = \", n_sequences)\n",
        "print(\"Number of targets = \", n_targets)\n",
        "print(\"Minimum number of instances = \", min_instances)\n",
        "print(\"Maximum number of instances = \", max_instances)\n",
        "print(\"\\nData summary:\")\n",
        "for key, value in targets.items(): print(\"Target = \", key, \"| Number of sequences = \", value)"
      ],
      "execution_count": 190,
      "outputs": [
        {
          "output_type": "stream",
          "text": [
            "Data information after cleaning:\n",
            "Number of sequences =  12746\n",
            "Number of targets =  74\n",
            "Minimum number of instances =  5\n",
            "Maximum number of instances =  6792\n",
            "\n",
            "Data summary:\n",
            "Target =  B | Number of sequences =  6792\n",
            "Target =  C | Number of sequences =  2081\n",
            "Target =  01_AE | Number of sequences =  1420\n",
            "Target =  02_AG | Number of sequences =  169\n",
            "Target =  01B | Number of sequences =  216\n",
            "Target =  01BC | Number of sequences =  51\n",
            "Target =  BC | Number of sequences =  94\n",
            "Target =  A | Number of sequences =  758\n",
            "Target =  G | Number of sequences =  92\n",
            "Target =  02A3 | Number of sequences =  7\n",
            "Target =  02D | Number of sequences =  6\n",
            "Target =  BF1 | Number of sequences =  142\n",
            "Target =  CU | Number of sequences =  5\n",
            "Target =  06_cpx | Number of sequences =  14\n",
            "Target =  0206 | Number of sequences =  9\n",
            "Target =  02G | Number of sequences =  17\n",
            "Target =  D | Number of sequences =  86\n",
            "Target =  F | Number of sequences =  89\n",
            "Target =  O | Number of sequences =  57\n",
            "Target =  33_01B | Number of sequences =  8\n",
            "Target =  35_AD | Number of sequences =  22\n",
            "Target =  08_BC | Number of sequences =  35\n",
            "Target =  69_01B | Number of sequences =  6\n",
            "Target =  H | Number of sequences =  10\n",
            "Target =  04_cpx | Number of sequences =  6\n",
            "Target =  J | Number of sequences =  6\n",
            "Target =  11_cpx | Number of sequences =  24\n",
            "Target =  0209 | Number of sequences =  6\n",
            "Target =  03_AB | Number of sequences =  5\n",
            "Target =  07_BC | Number of sequences =  41\n",
            "Target =  12_BF | Number of sequences =  15\n",
            "Target =  CD | Number of sequences =  61\n",
            "Target =  18_cpx | Number of sequences =  7\n",
            "Target =  BG | Number of sequences =  10\n",
            "Target =  14_BG | Number of sequences =  13\n",
            "Target =  13_cpx | Number of sequences =  10\n",
            "Target =  15_01B | Number of sequences =  8\n",
            "Target =  N | Number of sequences =  11\n",
            "Target =  09_cpx | Number of sequences =  5\n",
            "Target =  17_BF | Number of sequences =  7\n",
            "Target =  01C | Number of sequences =  17\n",
            "Target =  22_01A1 | Number of sequences =  19\n",
            "Target =  25_cpx | Number of sequences =  5\n",
            "Target =  29_BF | Number of sequences =  6\n",
            "Target =  19_cpx | Number of sequences =  5\n",
            "Target =  24_BG | Number of sequences =  6\n",
            "Target =  28_BF | Number of sequences =  5\n",
            "Target =  46_BF | Number of sequences =  8\n",
            "Target =  71_BF1 | Number of sequences =  13\n",
            "Target =  02B | Number of sequences =  13\n",
            "Target =  42_BF | Number of sequences =  12\n",
            "Target =  45_cpx | Number of sequences =  5\n",
            "Target =  60_BC | Number of sequences =  5\n",
            "Target =  0222 | Number of sequences =  6\n",
            "Target =  0107 | Number of sequences =  68\n",
            "Target =  47_BF | Number of sequences =  5\n",
            "Target =  P | Number of sequences =  5\n",
            "Target =  57_BC | Number of sequences =  7\n",
            "Target =  55_01B | Number of sequences =  10\n",
            "Target =  51_01B | Number of sequences =  7\n",
            "Target =  63_02A | Number of sequences =  13\n",
            "Target =  50_A1D | Number of sequences =  5\n",
            "Target =  02A6 | Number of sequences =  6\n",
            "Target =  59_01B | Number of sequences =  9\n",
            "Target =  65_cpx | Number of sequences =  6\n",
            "Target =  58_01B | Number of sequences =  6\n",
            "Target =  64_BC | Number of sequences =  9\n",
            "Target =  0108 | Number of sequences =  6\n",
            "Target =  72_BF1 | Number of sequences =  5\n",
            "Target =  02F2 | Number of sequences =  5\n",
            "Target =  92_C2U | Number of sequences =  5\n",
            "Target =  85_BC | Number of sequences =  11\n",
            "Target =  90_BF1 | Number of sequences =  6\n",
            "Target =  94_cpx | Number of sequences =  6\n"
          ],
          "name": "stdout"
        }
      ]
    },
    {
      "cell_type": "code",
      "metadata": {
        "id": "dLlrA8M2eh1G"
      },
      "source": [
        "##################################################\n",
        "##### GENERATION OF FEATURES BASED ON K-MERS #####\n",
        "##################################################\n"
      ],
      "execution_count": null,
      "outputs": []
    },
    {
      "cell_type": "code",
      "metadata": {
        "id": "DskY0ElH0Tuz"
      },
      "source": [
        "# Import re for regular expression operations\n",
        "import re\n",
        "# Fixe the length k of the features based on k-mers\n",
        "k = 5 #3,4,5,6\n",
        "# Initialize an empty dictionary for the k-mers\n",
        "k_mers = {}"
      ],
      "execution_count": 219,
      "outputs": []
    },
    {
      "cell_type": "code",
      "metadata": {
        "id": "NH0D9Uqj0f9M"
      },
      "source": [
        "# Iterate through the training data\n",
        "for d in data:\n",
        "    # Get the sequence\n",
        "    sequence = d[1]\n",
        "    # Go through the sequence \n",
        "    for i in range(0, len(sequence) - k + 1, 1):\n",
        "        # Get the current k-mer\n",
        "        k_mer = sequence[i:i + k]\n",
        "        # If it contains only the characters \"A\", \"C\", \"G\" or \"T\", it will be saved.\n",
        "        if bool(re.match('^[ACGT]+$', k_mer)) == True: k_mers[k_mer] = 0"
      ],
      "execution_count": 220,
      "outputs": []
    },
    {
      "cell_type": "code",
      "metadata": {
        "id": "JLgotW6X1CPI"
      },
      "source": [
        "def generateMatrices(data, k_mers, k):\n",
        "    # Initialize the feature matrix\n",
        "    X = []\n",
        "    # Initialize the target vector\n",
        "    y = []\n",
        "    # Iterate through the data\n",
        "    for d in data:\n",
        "        # Generate an empty dictionary\n",
        "        x = {}\n",
        "        # Initialize the dictionary with targets as keys and 0 as value\n",
        "        x = x.fromkeys(k_mers.keys(), 0)\n",
        "        # Get the sequence\n",
        "        sequence = d[1]\n",
        "        # Get the target\n",
        "        target = d[2]\n",
        "        # Compute X (features matrix) the number of occurrence of k-mers (with overlaping)\n",
        "        for i in range(0, len(sequence) - k + 1, 1):\n",
        "            k_mer = sequence[i:i + k]\n",
        "            # Attempt to increment the number of occurrences of the current k-mers\n",
        "            try: x[k_mer] = x[k_mer] + 1\n",
        "            except: pass\n",
        "        # Save the vector in the main matrix\n",
        "        X.append(list(x.values()))\n",
        "        # Compute y (target vector)\n",
        "        y.append(target)\n",
        "    # Return matrices X and y (feature matrix and target vector)\n",
        "    return X, y"
      ],
      "execution_count": 221,
      "outputs": []
    },
    {
      "cell_type": "code",
      "metadata": {
        "id": "W-1-Sqcj1C8V"
      },
      "source": [
        "seq_X, seq_y = generateMatrices(data = data, k_mers = k_mers, k = k)"
      ],
      "execution_count": 222,
      "outputs": []
    },
    {
      "cell_type": "code",
      "metadata": {
        "id": "RqDyQaIyaZ2k"
      },
      "source": [
        "# Import MinMaxScaler from sklearn\n",
        "from sklearn.preprocessing import MinMaxScaler\n",
        "# Instantiate a MinMaxScaler between 0 and 1\n",
        "minMaxScaler = MinMaxScaler(feature_range = (0,1))\n",
        "# Apply a scaling to the train and test set\n",
        "seq_X = minMaxScaler.fit_transform(seq_X)"
      ],
      "execution_count": 223,
      "outputs": []
    },
    {
      "cell_type": "code",
      "metadata": {
        "id": "80-ArhtoNdOQ"
      },
      "source": [
        "#  Visualisation des données\n",
        "import seaborn as sns\n",
        "import matplotlib.pyplot as plt\n",
        "\n",
        "fig, ax = plt.subplots(figsize=(20, 10))\n",
        "sns.heatmap(seq_X[:30], cmap=\"magma\", annot=True, fmt=\".2f\", linewidth=0.1, xticklabels=k_mers.keys())\n",
        "\n",
        "plt.title(\"Nombre d'occurences de k-mers dans chaque séquence\")\n",
        "plt.xlabel(\"K-mers\")\n",
        "plt.ylabel(\"Séquences\")\n",
        "plt.show()"
      ],
      "execution_count": null,
      "outputs": []
    },
    {
      "cell_type": "code",
      "metadata": {
        "colab": {
          "base_uri": "https://localhost:8080/"
        },
        "id": "uO03MWJl6nmn",
        "outputId": "fec6b235-32a5-48b9-e166-80c17553c035"
      },
      "source": [
        "\n",
        "from sklearn.model_selection import train_test_split\n",
        "from sklearn.model_selection import StratifiedShuffleSplit\n",
        "import numpy as np\n",
        "rs = 42\n",
        "test_size = 0.3\n",
        "\n",
        "X_train, X_test, y_train, y_test = train_test_split(seq_X, seq_y, \n",
        "                                                     test_size=test_size, \n",
        "                                                     shuffle=True, \n",
        "                                                     random_state=rs)\n",
        "print(X_train.shape)"
      ],
      "execution_count": 224,
      "outputs": [
        {
          "output_type": "stream",
          "text": [
            "(8922, 1024)\n"
          ],
          "name": "stdout"
        }
      ]
    },
    {
      "cell_type": "code",
      "metadata": {
        "id": "PM5TSwhv_Uk9"
      },
      "source": [
        "# Import SVM from sklearn\n",
        "from sklearn import svm\n",
        "# Instantiate a linear model based on svm\n",
        "model = svm.SVC(C = 1.0, kernel='linear', class_weight = None)"
      ],
      "execution_count": 225,
      "outputs": []
    },
    {
      "cell_type": "code",
      "metadata": {
        "id": "TEQhV8iJ_a6a",
        "colab": {
          "base_uri": "https://localhost:8080/"
        },
        "outputId": "398f83e9-43fe-4af0-9255-e2ce09b11b78"
      },
      "source": [
        "# Imports the feature selection method: Recursive features elimination [RFE]\n",
        "import time\n",
        "start = time.clock()\n",
        "print(start)\n",
        "\n",
        "from sklearn.feature_selection import RFE\n",
        "# Define the elimination step\n",
        "step = 2\n",
        "# Define the number of features to be selected\n",
        "n_features = 100 # 32, 60, 100\n",
        "# Instantiate the RFE\n",
        "rfe = RFE(model, n_features_to_select = n_features, step = step)\n",
        "# Apply RFE and transform the training matrix\n",
        "X_train = rfe.fit_transform(X_train, y_train)\n",
        "end = time.clock()\n",
        "print(end)\n",
        "print(end-start)"
      ],
      "execution_count": null,
      "outputs": [
        {
          "output_type": "stream",
          "text": [
            "/usr/local/lib/python3.7/dist-packages/ipykernel_launcher.py:3: DeprecationWarning: time.clock has been deprecated in Python 3.3 and will be removed from Python 3.8: use time.perf_counter or time.process_time instead\n",
            "  This is separate from the ipykernel package so we can avoid doing imports until\n"
          ],
          "name": "stderr"
        },
        {
          "output_type": "stream",
          "text": [
            "19417.39499\n"
          ],
          "name": "stdout"
        }
      ]
    },
    {
      "cell_type": "code",
      "metadata": {
        "colab": {
          "base_uri": "https://localhost:8080/"
        },
        "id": "0c85TKlOBRoq",
        "outputId": "47367beb-f4bc-48a6-fcc5-fb0a51eed22f"
      },
      "source": [
        "# Fit the model on the train set\n",
        "model.fit(X_train, y_train)"
      ],
      "execution_count": 199,
      "outputs": [
        {
          "output_type": "execute_result",
          "data": {
            "text/plain": [
              "SVC(C=1.0, break_ties=False, cache_size=200, class_weight=None, coef0=0.0,\n",
              "    decision_function_shape='ovr', degree=3, gamma='scale', kernel='linear',\n",
              "    max_iter=-1, probability=False, random_state=None, shrinking=True,\n",
              "    tol=0.001, verbose=False)"
            ]
          },
          "metadata": {
            "tags": []
          },
          "execution_count": 199
        }
      ]
    },
    {
      "cell_type": "code",
      "metadata": {
        "id": "dUOpGYveBWAJ"
      },
      "source": [
        "# Import Joblib for the persistence of the model\n",
        "import joblib"
      ],
      "execution_count": 200,
      "outputs": []
    },
    {
      "cell_type": "code",
      "metadata": {
        "colab": {
          "base_uri": "https://localhost:8080/"
        },
        "id": "iidRE9kOBY-L",
        "outputId": "3c58a151-0cbd-4b6a-bec2-703b5ef55a35"
      },
      "source": [
        "# Save the model\n",
        "joblib.dump(model, \"model.pkl\")"
      ],
      "execution_count": 201,
      "outputs": [
        {
          "output_type": "execute_result",
          "data": {
            "text/plain": [
              "['model.pkl']"
            ]
          },
          "metadata": {
            "tags": []
          },
          "execution_count": 201
        }
      ]
    },
    {
      "cell_type": "code",
      "metadata": {
        "id": "xaXFtDg5Bnfx"
      },
      "source": [
        "# Transform the test matrix according to the RFE selection\n",
        "X_test = rfe.transform(X_test)"
      ],
      "execution_count": 202,
      "outputs": []
    },
    {
      "cell_type": "code",
      "metadata": {
        "id": "B7gs11TPBuwp"
      },
      "source": [
        "# Load model\n",
        "model = joblib.load(\"model.pkl\")"
      ],
      "execution_count": 203,
      "outputs": []
    },
    {
      "cell_type": "code",
      "metadata": {
        "id": "VsKEykGOByHl"
      },
      "source": [
        "# Predict the test set\n",
        "y_pred = model.predict(X_test)"
      ],
      "execution_count": 204,
      "outputs": []
    },
    {
      "cell_type": "code",
      "metadata": {
        "colab": {
          "base_uri": "https://localhost:8080/"
        },
        "id": "4l_gKdgdB4t-",
        "outputId": "57140cb4-1d55-4835-8074-6dd4c16f6b89"
      },
      "source": [
        "# Import classification report from sklearn\n",
        "from sklearn.metrics import classification_report\n",
        "# Print the classification_report\n",
        "print(classification_report(y_test, y_pred, digits = 3))\n",
        "# Save the keys of the classification report dictionary \n",
        "classification_report_dict_keys = list(classification_report(y_test, y_pred, output_dict= True).keys())[:-3]"
      ],
      "execution_count": 205,
      "outputs": [
        {
          "output_type": "stream",
          "text": [
            "              precision    recall  f1-score   support\n",
            "\n",
            "        0107      0.769     0.588     0.667        17\n",
            "        0108      0.000     0.000     0.000         0\n",
            "         01B      0.737     0.389     0.509        72\n",
            "        01BC      0.857     0.400     0.545        15\n",
            "         01C      0.000     0.000     0.000         3\n",
            "       01_AE      0.911     0.998     0.952       439\n",
            "        0209      1.000     0.333     0.500         3\n",
            "        0222      0.000     0.000     0.000         0\n",
            "        02A3      0.000     0.000     0.000         1\n",
            "        02A6      0.000     0.000     0.000         4\n",
            "         02B      0.000     0.000     0.000         5\n",
            "        02F2      0.000     0.000     0.000         3\n",
            "         02G      0.000     0.000     0.000         5\n",
            "       02_AG      0.809     1.000     0.894        55\n",
            "       03_AB      0.000     0.000     0.000         1\n",
            "      04_cpx      1.000     1.000     1.000         2\n",
            "      06_cpx      0.667     1.000     0.800         2\n",
            "       07_BC      0.933     0.933     0.933        15\n",
            "       08_BC      0.900     0.818     0.857        11\n",
            "      09_cpx      0.000     0.000     0.000         1\n",
            "      11_cpx      1.000     0.875     0.933         8\n",
            "       12_BF      0.667     0.500     0.571         4\n",
            "      13_cpx      1.000     1.000     1.000         4\n",
            "       14_BG      1.000     1.000     1.000         3\n",
            "      15_01B      0.000     0.000     0.000         5\n",
            "       17_BF      0.000     0.000     0.000         4\n",
            "      18_cpx      1.000     1.000     1.000         2\n",
            "      19_cpx      0.000     0.000     0.000         2\n",
            "     22_01A1      1.000     0.833     0.909         6\n",
            "       28_BF      0.000     0.000     0.000         2\n",
            "       35_AD      1.000     1.000     1.000         7\n",
            "       42_BF      1.000     1.000     1.000         5\n",
            "      45_cpx      0.000     0.000     0.000         2\n",
            "       46_BF      0.000     0.000     0.000         5\n",
            "       47_BF      1.000     1.000     1.000         1\n",
            "      50_A1D      1.000     1.000     1.000         1\n",
            "      51_01B      1.000     0.500     0.667         2\n",
            "      55_01B      0.000     0.000     0.000         0\n",
            "       57_BC      0.000     0.000     0.000         4\n",
            "      58_01B      0.000     0.000     0.000         3\n",
            "      59_01B      1.000     1.000     1.000         4\n",
            "       60_BC      0.000     0.000     0.000         2\n",
            "      63_02A      1.000     1.000     1.000         3\n",
            "       64_BC      0.000     0.000     0.000         2\n",
            "      65_cpx      0.000     0.000     0.000         3\n",
            "      69_01B      1.000     1.000     1.000         1\n",
            "      71_BF1      0.000     0.000     0.000         5\n",
            "      72_BF1      0.000     0.000     0.000         2\n",
            "       85_BC      1.000     1.000     1.000         1\n",
            "      90_BF1      0.000     0.000     0.000         1\n",
            "      92_C2U      0.000     0.000     0.000         3\n",
            "      94_cpx      1.000     1.000     1.000         2\n",
            "           A      0.943     0.987     0.965       236\n",
            "           B      0.976     1.000     0.988      2015\n",
            "          BC      0.462     0.222     0.300        27\n",
            "         BF1      0.675     0.466     0.551        58\n",
            "          BG      0.000     0.000     0.000         1\n",
            "           C      0.933     1.000     0.965       601\n",
            "          CD      1.000     0.222     0.364        18\n",
            "          CU      0.000     0.000     0.000         2\n",
            "           D      0.875     0.913     0.894        23\n",
            "           F      0.688     0.846     0.759        26\n",
            "           G      0.895     0.944     0.919        36\n",
            "           H      1.000     0.400     0.571         5\n",
            "           J      1.000     1.000     1.000         1\n",
            "           N      1.000     1.000     1.000         3\n",
            "           O      1.000     1.000     1.000        19\n",
            "\n",
            "    accuracy                          0.942      3824\n",
            "   macro avg      0.533     0.480     0.493      3824\n",
            "weighted avg      0.921     0.942     0.927      3824\n",
            "\n"
          ],
          "name": "stdout"
        },
        {
          "output_type": "stream",
          "text": [
            "/usr/local/lib/python3.7/dist-packages/sklearn/metrics/_classification.py:1272: UndefinedMetricWarning: Precision and F-score are ill-defined and being set to 0.0 in labels with no predicted samples. Use `zero_division` parameter to control this behavior.\n",
            "  _warn_prf(average, modifier, msg_start, len(result))\n",
            "/usr/local/lib/python3.7/dist-packages/sklearn/metrics/_classification.py:1272: UndefinedMetricWarning: Recall and F-score are ill-defined and being set to 0.0 in labels with no true samples. Use `zero_division` parameter to control this behavior.\n",
            "  _warn_prf(average, modifier, msg_start, len(result))\n"
          ],
          "name": "stderr"
        }
      ]
    },
    {
      "cell_type": "code",
      "metadata": {
        "id": "0ETsyw9cCKxs"
      },
      "source": [
        "# Import seaborn library\n",
        "import seaborn as sns\n",
        "# Import matplotlib functions\n",
        "import matplotlib.pyplot as plt\n",
        "# Import confusion matrix from sklearn.metrics\n",
        "from sklearn.metrics import confusion_matrix\n",
        "# Compute the confusion matrix\n",
        "confusionMatrix = confusion_matrix(y_true = y_test, y_pred = y_pred)\n",
        "# Built the figure\n",
        "fig, ax = plt.subplots(figsize=(15, 10))\n",
        "sns.heatmap(confusionMatrix, \n",
        "            cmap = 'magma', \n",
        "            annot = True, \n",
        "            fmt = \".0f\", \n",
        "            linewidth = 0.1, \n",
        "            xticklabels = classification_report_dict_keys, \n",
        "            yticklabels = classification_report_dict_keys)\n",
        "plt.title(\"Confusion matrix\")\n",
        "plt.xlabel(\"Predicted label\")\n",
        "plt.ylabel(\"True label\")\n",
        "plt.show()"
      ],
      "execution_count": null,
      "outputs": []
    },
    {
      "cell_type": "code",
      "metadata": {
        "id": "6ByN0L_6zPim"
      },
      "source": [
        "from keras.layers import Input, Dense\n",
        "from keras.models import Model\n",
        "from keras import backend as K\n",
        "import numpy as np\n",
        "import matplotlib.pyplot as plt\n",
        "import pickle"
      ],
      "execution_count": 206,
      "outputs": []
    },
    {
      "cell_type": "code",
      "metadata": {
        "id": "csUaHwMN3pQ6"
      },
      "source": [
        "# K= 3, with 64 total features\n",
        "# select 32 features\n",
        "encoding_dim = 32 # 32, 60, 100   \n",
        "# this is our input placeholder\n",
        "input_data = Input(shape=(64, ))\n",
        "# Number of epochs\n",
        "my_epochs = 200\n",
        "\n",
        "# \"encoded\" is the encoded representation of the inputs\n",
        "encoded = Dense(44, activation='relu')(input_data)\n",
        "encoded = Dense(encoding_dim , activation='relu')(encoded)\n",
        "\n",
        "# \"decoded\" is the lossy reconstruction of the input\n",
        "decoded = Dense(44, activation='relu')(encoded)\n",
        "decoded = Dense(64, activation='sigmoid')(decoded)\n",
        "\n",
        "# this model maps an input to its reconstruction\n",
        "autoencoder = Model(input_data, decoded)\n",
        "\n",
        "# this model maps an input to its encoded representation\n",
        "encoder = Model(input_data, encoded)\n",
        "\n",
        "# create a placeholder for an encoded (32-dimensional) input\n",
        "encoded_input = Input(shape=(encoding_dim, ))\n",
        "\n",
        "# retrieve the layers of the autoencoder model\n",
        "decoder_layer3 = autoencoder.layers[-2]\n",
        "decoder_layer4 = autoencoder.layers[-1]\n",
        "\n",
        "# create the decoder model\n",
        "decoder = Model(encoded_input, decoder_layer4(decoder_layer3(encoded_input)))\n",
        "\n",
        "# configure model to use regretion loss functions, and the adam optimizer\n",
        "autoencoder.compile(optimizer='adam', loss='mse')\n",
        "#mean_squared_logarithmic_error, #mean_absolute_error, #autoencoder.compile(loss='mean_squared_logarithmic_error', optimizer='adam', metrics=['mse'])"
      ],
      "execution_count": 257,
      "outputs": []
    },
    {
      "cell_type": "code",
      "metadata": {
        "id": "L3rhlGgF4ilp"
      },
      "source": [
        "# K= 4, with 256 total features\n",
        "# select 60 features\n",
        "encoding_dim = 60 # 32, 60, 100   \n",
        "# this is our input placeholder\n",
        "input_data = Input(shape=(256, ))\n",
        "# Number of epochs\n",
        "my_epochs = 300\n",
        "\n",
        "# \"encoded\" is the encoded representation of the inputs\n",
        "encoded = Dense(encoding_dim * 3, activation='relu')(input_data)\n",
        "encoded = Dense(encoding_dim * 2, activation='relu')(encoded)\n",
        "encoded = Dense(encoding_dim , activation='relu')(encoded)\n",
        "\n",
        "# \"decoded\" is the lossy reconstruction of the input\n",
        "decoded = Dense(encoding_dim * 2, activation='relu')(encoded)\n",
        "decoded = Dense(encoding_dim * 3, activation='relu')(decoded)\n",
        "decoded = Dense(256, activation='sigmoid')(decoded)\n",
        "\n",
        "# this model maps an input to its reconstruction\n",
        "autoencoder = Model(input_data, decoded)\n",
        "\n",
        "# this model maps an input to its encoded representation\n",
        "encoder = Model(input_data, encoded)\n",
        "\n",
        "# create a placeholder for an encoded (60-dimensional) input\n",
        "encoded_input = Input(shape=(encoding_dim, ))\n",
        "\n",
        "# retrieve the layers of the autoencoder model\n",
        "decoder_layer2 = autoencoder.layers[-3]\n",
        "decoder_layer3 = autoencoder.layers[-2]\n",
        "decoder_layer4 = autoencoder.layers[-1]\n",
        "\n",
        "# create the decoder model\n",
        "decoder = Model(encoded_input, decoder_layer4(decoder_layer3(decoder_layer2(encoded_input))))\n",
        "\n",
        "# configure model to use regretion loss functions, and the adam optimizer\n",
        "autoencoder.compile(optimizer='adam', loss='mse')\n",
        "#autoencoder.compile(loss='mean_squared_logarithmic_error', optimizer='adam', metrics=['mse'])\n",
        "#mean_squared_logarithmic_error, #mean_absolute_error,"
      ],
      "execution_count": 207,
      "outputs": []
    },
    {
      "cell_type": "code",
      "metadata": {
        "id": "Zb9z9NXb4kzR"
      },
      "source": [
        "# K= 5, with 1024 total features\n",
        "# select 100 features\n",
        "encoding_dim = 100 # 32, 60, 100   \n",
        "# this is our input placeholder\n",
        "input_data = Input(shape=(1024, ))\n",
        "# Number of epochs\n",
        "my_epochs = 300\n",
        "\n",
        "# \"encoded\" is the encoded representation of the inputs\n",
        "encoded = Dense(encoding_dim *6, activation='relu')(input_data)\n",
        "encoded = Dense(encoding_dim *4 , activation='relu')(encoded)\n",
        "encoded = Dense(encoding_dim *2, activation='relu')(encoded)\n",
        "encoded = Dense(encoding_dim , activation='relu')(encoded)\n",
        "\n",
        "# \"decoded\" is the lossy reconstruction of the input\n",
        "decoded = Dense(encoding_dim *2, activation='relu')(encoded)\n",
        "decoded = Dense(encoding_dim*4, activation='sigmoid')(decoded)\n",
        "decoded = Dense(encoding_dim*6, activation='sigmoid')(decoded)\n",
        "decoded = Dense(1024, activation='sigmoid')(decoded)\n",
        "\n",
        "# this model maps an input to its reconstruction\n",
        "autoencoder = Model(input_data, decoded)\n",
        "\n",
        "# this model maps an input to its encoded representation\n",
        "encoder = Model(input_data, encoded)\n",
        "\n",
        "# create a placeholder for an encoded (100-dimensional) input\n",
        "encoded_input = Input(shape=(encoding_dim, ))\n",
        "\n",
        "# retrieve the layers of the autoencoder model\n",
        "decoder_layer1 = autoencoder.layers[-4]\n",
        "decoder_layer2 = autoencoder.layers[-3]\n",
        "decoder_layer3 = autoencoder.layers[-2]\n",
        "decoder_layer4 = autoencoder.layers[-1]\n",
        "\n",
        "# create the decoder model\n",
        "decoder = Model(encoded_input, decoder_layer4(decoder_layer3(decoder_layer2(decoder_layer1(encoded_input)))))\n",
        "\n",
        "# configure model to use regretion loss functions, and the adam optimizer\n",
        "autoencoder.compile(optimizer='adam', loss='mse')\n",
        "#autoencoder.compile(loss='mean_squared_logarithmic_error', optimizer='adam', metrics=['mse'])\n",
        "#mean_squared_logarithmic_error, #mean_absolute_error,"
      ],
      "execution_count": 363,
      "outputs": []
    },
    {
      "cell_type": "code",
      "metadata": {
        "id": "S6jpNlVskttN"
      },
      "source": [
        "# K= 6, with 4096 total features\n",
        "# select 200 features\n",
        "encoding_dim = 200 # 32, 60, 100 , 200  \n",
        "# this is our input placeholder\n",
        "input_data = Input(shape=(4096, ))\n",
        "# Number of epochs\n",
        "my_epochs = 300\n",
        "\n",
        "# \"encoded\" is the encoded representation of the inputs\n",
        "encoded = Dense(encoding_dim *10, activation='relu')(input_data)\n",
        "encoded = Dense(encoding_dim *5 , activation='relu')(encoded)\n",
        "encoded = Dense(encoding_dim *2, activation='relu')(encoded)\n",
        "encoded = Dense(encoding_dim , activation='relu')(encoded)\n",
        "\n",
        "# \"decoded\" is the lossy reconstruction of the input\n",
        "decoded = Dense(encoding_dim *2, activation='relu')(encoded)\n",
        "decoded = Dense(encoding_dim*5, activation='sigmoid')(decoded)\n",
        "decoded = Dense(encoding_dim*10, activation='sigmoid')(decoded)\n",
        "decoded = Dense(4096, activation='sigmoid')(decoded)\n",
        "\n",
        "# this model maps an input to its reconstruction\n",
        "autoencoder = Model(input_data, decoded)\n",
        "\n",
        "# this model maps an input to its encoded representation\n",
        "encoder = Model(input_data, encoded)\n",
        "\n",
        "# create a placeholder for an encoded (200-dimensional) input\n",
        "encoded_input = Input(shape=(encoding_dim, ))\n",
        "\n",
        "# retrieve the layers of the autoencoder model\n",
        "decoder_layer1 = autoencoder.layers[-4]\n",
        "decoder_layer2 = autoencoder.layers[-3]\n",
        "decoder_layer3 = autoencoder.layers[-2]\n",
        "decoder_layer4 = autoencoder.layers[-1]\n",
        "\n",
        "# create the decoder model\n",
        "decoder = Model(encoded_input, decoder_layer4(decoder_layer3(decoder_layer2(decoder_layer1(encoded_input)))))\n",
        "\n",
        "# configure model to use regretion loss functions, and the adam optimizer\n",
        "autoencoder.compile(optimizer='adam', loss='mse')\n",
        "#autoencoder.compile(loss='mean_squared_logarithmic_error', optimizer='adam', metrics=['mse'])\n",
        "#mean_squared_logarithmic_error, #mean_absolute_error,"
      ],
      "execution_count": 14,
      "outputs": []
    },
    {
      "cell_type": "code",
      "metadata": {
        "colab": {
          "base_uri": "https://localhost:8080/"
        },
        "id": "e75m9bcg3w1f",
        "outputId": "8daff9d8-6207-452a-fefd-06f3c5412584"
      },
      "source": [
        "\n",
        "# Train autoencoder\n",
        "autoencoder.fit(seq_X, seq_X, epochs=my_epochs, batch_size=256, shuffle=True, validation_data=None,verbose=2)\n",
        "\n",
        "K.clear_session()"
      ],
      "execution_count": 208,
      "outputs": [
        {
          "output_type": "stream",
          "text": [
            "Epoch 1/300\n",
            "50/50 - 1s - loss: 0.0160\n",
            "Epoch 2/300\n",
            "50/50 - 0s - loss: 0.0099\n",
            "Epoch 3/300\n",
            "50/50 - 0s - loss: 0.0086\n",
            "Epoch 4/300\n",
            "50/50 - 0s - loss: 0.0078\n",
            "Epoch 5/300\n",
            "50/50 - 0s - loss: 0.0075\n",
            "Epoch 6/300\n",
            "50/50 - 0s - loss: 0.0073\n",
            "Epoch 7/300\n",
            "50/50 - 0s - loss: 0.0071\n",
            "Epoch 8/300\n",
            "50/50 - 0s - loss: 0.0068\n",
            "Epoch 9/300\n",
            "50/50 - 0s - loss: 0.0066\n",
            "Epoch 10/300\n",
            "50/50 - 0s - loss: 0.0064\n",
            "Epoch 11/300\n",
            "50/50 - 0s - loss: 0.0062\n",
            "Epoch 12/300\n",
            "50/50 - 0s - loss: 0.0060\n",
            "Epoch 13/300\n",
            "50/50 - 0s - loss: 0.0058\n",
            "Epoch 14/300\n",
            "50/50 - 0s - loss: 0.0057\n",
            "Epoch 15/300\n",
            "50/50 - 0s - loss: 0.0056\n",
            "Epoch 16/300\n",
            "50/50 - 0s - loss: 0.0054\n",
            "Epoch 17/300\n",
            "50/50 - 0s - loss: 0.0053\n",
            "Epoch 18/300\n",
            "50/50 - 0s - loss: 0.0052\n",
            "Epoch 19/300\n",
            "50/50 - 0s - loss: 0.0051\n",
            "Epoch 20/300\n",
            "50/50 - 0s - loss: 0.0050\n",
            "Epoch 21/300\n",
            "50/50 - 0s - loss: 0.0050\n",
            "Epoch 22/300\n",
            "50/50 - 0s - loss: 0.0049\n",
            "Epoch 23/300\n",
            "50/50 - 0s - loss: 0.0048\n",
            "Epoch 24/300\n",
            "50/50 - 0s - loss: 0.0047\n",
            "Epoch 25/300\n",
            "50/50 - 0s - loss: 0.0047\n",
            "Epoch 26/300\n",
            "50/50 - 0s - loss: 0.0046\n",
            "Epoch 27/300\n",
            "50/50 - 0s - loss: 0.0046\n",
            "Epoch 28/300\n",
            "50/50 - 0s - loss: 0.0045\n",
            "Epoch 29/300\n",
            "50/50 - 0s - loss: 0.0044\n",
            "Epoch 30/300\n",
            "50/50 - 0s - loss: 0.0044\n",
            "Epoch 31/300\n",
            "50/50 - 0s - loss: 0.0043\n",
            "Epoch 32/300\n",
            "50/50 - 0s - loss: 0.0043\n",
            "Epoch 33/300\n",
            "50/50 - 0s - loss: 0.0043\n",
            "Epoch 34/300\n",
            "50/50 - 0s - loss: 0.0042\n",
            "Epoch 35/300\n",
            "50/50 - 0s - loss: 0.0041\n",
            "Epoch 36/300\n",
            "50/50 - 0s - loss: 0.0041\n",
            "Epoch 37/300\n",
            "50/50 - 0s - loss: 0.0041\n",
            "Epoch 38/300\n",
            "50/50 - 0s - loss: 0.0040\n",
            "Epoch 39/300\n",
            "50/50 - 0s - loss: 0.0040\n",
            "Epoch 40/300\n",
            "50/50 - 0s - loss: 0.0040\n",
            "Epoch 41/300\n",
            "50/50 - 0s - loss: 0.0039\n",
            "Epoch 42/300\n",
            "50/50 - 0s - loss: 0.0039\n",
            "Epoch 43/300\n",
            "50/50 - 0s - loss: 0.0039\n",
            "Epoch 44/300\n",
            "50/50 - 0s - loss: 0.0039\n",
            "Epoch 45/300\n",
            "50/50 - 0s - loss: 0.0038\n",
            "Epoch 46/300\n",
            "50/50 - 0s - loss: 0.0038\n",
            "Epoch 47/300\n",
            "50/50 - 0s - loss: 0.0038\n",
            "Epoch 48/300\n",
            "50/50 - 0s - loss: 0.0038\n",
            "Epoch 49/300\n",
            "50/50 - 0s - loss: 0.0038\n",
            "Epoch 50/300\n",
            "50/50 - 0s - loss: 0.0037\n",
            "Epoch 51/300\n",
            "50/50 - 0s - loss: 0.0037\n",
            "Epoch 52/300\n",
            "50/50 - 0s - loss: 0.0037\n",
            "Epoch 53/300\n",
            "50/50 - 0s - loss: 0.0037\n",
            "Epoch 54/300\n",
            "50/50 - 0s - loss: 0.0036\n",
            "Epoch 55/300\n",
            "50/50 - 0s - loss: 0.0036\n",
            "Epoch 56/300\n",
            "50/50 - 0s - loss: 0.0036\n",
            "Epoch 57/300\n",
            "50/50 - 0s - loss: 0.0036\n",
            "Epoch 58/300\n",
            "50/50 - 0s - loss: 0.0036\n",
            "Epoch 59/300\n",
            "50/50 - 0s - loss: 0.0035\n",
            "Epoch 60/300\n",
            "50/50 - 0s - loss: 0.0035\n",
            "Epoch 61/300\n",
            "50/50 - 0s - loss: 0.0035\n",
            "Epoch 62/300\n",
            "50/50 - 0s - loss: 0.0035\n",
            "Epoch 63/300\n",
            "50/50 - 0s - loss: 0.0035\n",
            "Epoch 64/300\n",
            "50/50 - 0s - loss: 0.0035\n",
            "Epoch 65/300\n",
            "50/50 - 0s - loss: 0.0034\n",
            "Epoch 66/300\n",
            "50/50 - 0s - loss: 0.0035\n",
            "Epoch 67/300\n",
            "50/50 - 0s - loss: 0.0034\n",
            "Epoch 68/300\n",
            "50/50 - 0s - loss: 0.0034\n",
            "Epoch 69/300\n",
            "50/50 - 0s - loss: 0.0034\n",
            "Epoch 70/300\n",
            "50/50 - 0s - loss: 0.0034\n",
            "Epoch 71/300\n",
            "50/50 - 0s - loss: 0.0034\n",
            "Epoch 72/300\n",
            "50/50 - 0s - loss: 0.0034\n",
            "Epoch 73/300\n",
            "50/50 - 0s - loss: 0.0034\n",
            "Epoch 74/300\n",
            "50/50 - 0s - loss: 0.0033\n",
            "Epoch 75/300\n",
            "50/50 - 0s - loss: 0.0033\n",
            "Epoch 76/300\n",
            "50/50 - 0s - loss: 0.0033\n",
            "Epoch 77/300\n",
            "50/50 - 0s - loss: 0.0033\n",
            "Epoch 78/300\n",
            "50/50 - 0s - loss: 0.0033\n",
            "Epoch 79/300\n",
            "50/50 - 0s - loss: 0.0033\n",
            "Epoch 80/300\n",
            "50/50 - 0s - loss: 0.0033\n",
            "Epoch 81/300\n",
            "50/50 - 0s - loss: 0.0033\n",
            "Epoch 82/300\n",
            "50/50 - 0s - loss: 0.0033\n",
            "Epoch 83/300\n",
            "50/50 - 0s - loss: 0.0032\n",
            "Epoch 84/300\n",
            "50/50 - 0s - loss: 0.0032\n",
            "Epoch 85/300\n",
            "50/50 - 0s - loss: 0.0032\n",
            "Epoch 86/300\n",
            "50/50 - 0s - loss: 0.0032\n",
            "Epoch 87/300\n",
            "50/50 - 0s - loss: 0.0032\n",
            "Epoch 88/300\n",
            "50/50 - 0s - loss: 0.0032\n",
            "Epoch 89/300\n",
            "50/50 - 0s - loss: 0.0032\n",
            "Epoch 90/300\n",
            "50/50 - 0s - loss: 0.0032\n",
            "Epoch 91/300\n",
            "50/50 - 0s - loss: 0.0032\n",
            "Epoch 92/300\n",
            "50/50 - 0s - loss: 0.0032\n",
            "Epoch 93/300\n",
            "50/50 - 0s - loss: 0.0032\n",
            "Epoch 94/300\n",
            "50/50 - 0s - loss: 0.0032\n",
            "Epoch 95/300\n",
            "50/50 - 0s - loss: 0.0031\n",
            "Epoch 96/300\n",
            "50/50 - 0s - loss: 0.0031\n",
            "Epoch 97/300\n",
            "50/50 - 0s - loss: 0.0031\n",
            "Epoch 98/300\n",
            "50/50 - 0s - loss: 0.0031\n",
            "Epoch 99/300\n",
            "50/50 - 0s - loss: 0.0031\n",
            "Epoch 100/300\n",
            "50/50 - 0s - loss: 0.0031\n",
            "Epoch 101/300\n",
            "50/50 - 0s - loss: 0.0031\n",
            "Epoch 102/300\n",
            "50/50 - 0s - loss: 0.0031\n",
            "Epoch 103/300\n",
            "50/50 - 0s - loss: 0.0031\n",
            "Epoch 104/300\n",
            "50/50 - 0s - loss: 0.0031\n",
            "Epoch 105/300\n",
            "50/50 - 0s - loss: 0.0031\n",
            "Epoch 106/300\n",
            "50/50 - 0s - loss: 0.0031\n",
            "Epoch 107/300\n",
            "50/50 - 0s - loss: 0.0031\n",
            "Epoch 108/300\n",
            "50/50 - 0s - loss: 0.0030\n",
            "Epoch 109/300\n",
            "50/50 - 0s - loss: 0.0030\n",
            "Epoch 110/300\n",
            "50/50 - 0s - loss: 0.0030\n",
            "Epoch 111/300\n",
            "50/50 - 0s - loss: 0.0030\n",
            "Epoch 112/300\n",
            "50/50 - 0s - loss: 0.0030\n",
            "Epoch 113/300\n",
            "50/50 - 0s - loss: 0.0030\n",
            "Epoch 114/300\n",
            "50/50 - 0s - loss: 0.0030\n",
            "Epoch 115/300\n",
            "50/50 - 0s - loss: 0.0030\n",
            "Epoch 116/300\n",
            "50/50 - 0s - loss: 0.0030\n",
            "Epoch 117/300\n",
            "50/50 - 0s - loss: 0.0030\n",
            "Epoch 118/300\n",
            "50/50 - 0s - loss: 0.0030\n",
            "Epoch 119/300\n",
            "50/50 - 0s - loss: 0.0030\n",
            "Epoch 120/300\n",
            "50/50 - 0s - loss: 0.0030\n",
            "Epoch 121/300\n",
            "50/50 - 0s - loss: 0.0030\n",
            "Epoch 122/300\n",
            "50/50 - 0s - loss: 0.0030\n",
            "Epoch 123/300\n",
            "50/50 - 0s - loss: 0.0030\n",
            "Epoch 124/300\n",
            "50/50 - 0s - loss: 0.0030\n",
            "Epoch 125/300\n",
            "50/50 - 0s - loss: 0.0030\n",
            "Epoch 126/300\n",
            "50/50 - 0s - loss: 0.0030\n",
            "Epoch 127/300\n",
            "50/50 - 0s - loss: 0.0030\n",
            "Epoch 128/300\n",
            "50/50 - 0s - loss: 0.0029\n",
            "Epoch 129/300\n",
            "50/50 - 0s - loss: 0.0029\n",
            "Epoch 130/300\n",
            "50/50 - 0s - loss: 0.0030\n",
            "Epoch 131/300\n",
            "50/50 - 0s - loss: 0.0029\n",
            "Epoch 132/300\n",
            "50/50 - 0s - loss: 0.0029\n",
            "Epoch 133/300\n",
            "50/50 - 0s - loss: 0.0029\n",
            "Epoch 134/300\n",
            "50/50 - 0s - loss: 0.0029\n",
            "Epoch 135/300\n",
            "50/50 - 0s - loss: 0.0029\n",
            "Epoch 136/300\n",
            "50/50 - 0s - loss: 0.0029\n",
            "Epoch 137/300\n",
            "50/50 - 0s - loss: 0.0029\n",
            "Epoch 138/300\n",
            "50/50 - 0s - loss: 0.0029\n",
            "Epoch 139/300\n",
            "50/50 - 0s - loss: 0.0029\n",
            "Epoch 140/300\n",
            "50/50 - 0s - loss: 0.0029\n",
            "Epoch 141/300\n",
            "50/50 - 0s - loss: 0.0029\n",
            "Epoch 142/300\n",
            "50/50 - 0s - loss: 0.0029\n",
            "Epoch 143/300\n",
            "50/50 - 0s - loss: 0.0029\n",
            "Epoch 144/300\n",
            "50/50 - 0s - loss: 0.0029\n",
            "Epoch 145/300\n",
            "50/50 - 0s - loss: 0.0029\n",
            "Epoch 146/300\n",
            "50/50 - 0s - loss: 0.0029\n",
            "Epoch 147/300\n",
            "50/50 - 0s - loss: 0.0029\n",
            "Epoch 148/300\n",
            "50/50 - 0s - loss: 0.0029\n",
            "Epoch 149/300\n",
            "50/50 - 0s - loss: 0.0028\n",
            "Epoch 150/300\n",
            "50/50 - 0s - loss: 0.0028\n",
            "Epoch 151/300\n",
            "50/50 - 0s - loss: 0.0029\n",
            "Epoch 152/300\n",
            "50/50 - 0s - loss: 0.0028\n",
            "Epoch 153/300\n",
            "50/50 - 0s - loss: 0.0028\n",
            "Epoch 154/300\n",
            "50/50 - 0s - loss: 0.0028\n",
            "Epoch 155/300\n",
            "50/50 - 0s - loss: 0.0028\n",
            "Epoch 156/300\n",
            "50/50 - 0s - loss: 0.0028\n",
            "Epoch 157/300\n",
            "50/50 - 0s - loss: 0.0028\n",
            "Epoch 158/300\n",
            "50/50 - 0s - loss: 0.0028\n",
            "Epoch 159/300\n",
            "50/50 - 0s - loss: 0.0028\n",
            "Epoch 160/300\n",
            "50/50 - 0s - loss: 0.0028\n",
            "Epoch 161/300\n",
            "50/50 - 0s - loss: 0.0028\n",
            "Epoch 162/300\n",
            "50/50 - 0s - loss: 0.0028\n",
            "Epoch 163/300\n",
            "50/50 - 0s - loss: 0.0028\n",
            "Epoch 164/300\n",
            "50/50 - 0s - loss: 0.0028\n",
            "Epoch 165/300\n",
            "50/50 - 0s - loss: 0.0028\n",
            "Epoch 166/300\n",
            "50/50 - 0s - loss: 0.0028\n",
            "Epoch 167/300\n",
            "50/50 - 0s - loss: 0.0028\n",
            "Epoch 168/300\n",
            "50/50 - 0s - loss: 0.0028\n",
            "Epoch 169/300\n",
            "50/50 - 0s - loss: 0.0028\n",
            "Epoch 170/300\n",
            "50/50 - 0s - loss: 0.0028\n",
            "Epoch 171/300\n",
            "50/50 - 0s - loss: 0.0028\n",
            "Epoch 172/300\n",
            "50/50 - 0s - loss: 0.0028\n",
            "Epoch 173/300\n",
            "50/50 - 0s - loss: 0.0028\n",
            "Epoch 174/300\n",
            "50/50 - 0s - loss: 0.0028\n",
            "Epoch 175/300\n",
            "50/50 - 0s - loss: 0.0028\n",
            "Epoch 176/300\n",
            "50/50 - 0s - loss: 0.0028\n",
            "Epoch 177/300\n",
            "50/50 - 0s - loss: 0.0028\n",
            "Epoch 178/300\n",
            "50/50 - 0s - loss: 0.0027\n",
            "Epoch 179/300\n",
            "50/50 - 0s - loss: 0.0028\n",
            "Epoch 180/300\n",
            "50/50 - 0s - loss: 0.0027\n",
            "Epoch 181/300\n",
            "50/50 - 0s - loss: 0.0027\n",
            "Epoch 182/300\n",
            "50/50 - 0s - loss: 0.0027\n",
            "Epoch 183/300\n",
            "50/50 - 0s - loss: 0.0027\n",
            "Epoch 184/300\n",
            "50/50 - 0s - loss: 0.0027\n",
            "Epoch 185/300\n",
            "50/50 - 0s - loss: 0.0027\n",
            "Epoch 186/300\n",
            "50/50 - 0s - loss: 0.0027\n",
            "Epoch 187/300\n",
            "50/50 - 0s - loss: 0.0027\n",
            "Epoch 188/300\n",
            "50/50 - 0s - loss: 0.0027\n",
            "Epoch 189/300\n",
            "50/50 - 0s - loss: 0.0027\n",
            "Epoch 190/300\n",
            "50/50 - 0s - loss: 0.0027\n",
            "Epoch 191/300\n",
            "50/50 - 0s - loss: 0.0027\n",
            "Epoch 192/300\n",
            "50/50 - 0s - loss: 0.0027\n",
            "Epoch 193/300\n",
            "50/50 - 0s - loss: 0.0027\n",
            "Epoch 194/300\n",
            "50/50 - 0s - loss: 0.0027\n",
            "Epoch 195/300\n",
            "50/50 - 0s - loss: 0.0027\n",
            "Epoch 196/300\n",
            "50/50 - 0s - loss: 0.0027\n",
            "Epoch 197/300\n",
            "50/50 - 0s - loss: 0.0027\n",
            "Epoch 198/300\n",
            "50/50 - 0s - loss: 0.0027\n",
            "Epoch 199/300\n",
            "50/50 - 0s - loss: 0.0027\n",
            "Epoch 200/300\n",
            "50/50 - 0s - loss: 0.0027\n",
            "Epoch 201/300\n",
            "50/50 - 0s - loss: 0.0027\n",
            "Epoch 202/300\n",
            "50/50 - 0s - loss: 0.0027\n",
            "Epoch 203/300\n",
            "50/50 - 0s - loss: 0.0027\n",
            "Epoch 204/300\n",
            "50/50 - 0s - loss: 0.0027\n",
            "Epoch 205/300\n",
            "50/50 - 0s - loss: 0.0027\n",
            "Epoch 206/300\n",
            "50/50 - 0s - loss: 0.0027\n",
            "Epoch 207/300\n",
            "50/50 - 0s - loss: 0.0027\n",
            "Epoch 208/300\n",
            "50/50 - 0s - loss: 0.0027\n",
            "Epoch 209/300\n",
            "50/50 - 0s - loss: 0.0027\n",
            "Epoch 210/300\n",
            "50/50 - 0s - loss: 0.0027\n",
            "Epoch 211/300\n",
            "50/50 - 0s - loss: 0.0027\n",
            "Epoch 212/300\n",
            "50/50 - 0s - loss: 0.0027\n",
            "Epoch 213/300\n",
            "50/50 - 0s - loss: 0.0027\n",
            "Epoch 214/300\n",
            "50/50 - 0s - loss: 0.0027\n",
            "Epoch 215/300\n",
            "50/50 - 0s - loss: 0.0027\n",
            "Epoch 216/300\n",
            "50/50 - 0s - loss: 0.0027\n",
            "Epoch 217/300\n",
            "50/50 - 0s - loss: 0.0027\n",
            "Epoch 218/300\n",
            "50/50 - 0s - loss: 0.0027\n",
            "Epoch 219/300\n",
            "50/50 - 0s - loss: 0.0027\n",
            "Epoch 220/300\n",
            "50/50 - 0s - loss: 0.0027\n",
            "Epoch 221/300\n",
            "50/50 - 0s - loss: 0.0027\n",
            "Epoch 222/300\n",
            "50/50 - 0s - loss: 0.0027\n",
            "Epoch 223/300\n",
            "50/50 - 0s - loss: 0.0026\n",
            "Epoch 224/300\n",
            "50/50 - 0s - loss: 0.0027\n",
            "Epoch 225/300\n",
            "50/50 - 0s - loss: 0.0026\n",
            "Epoch 226/300\n",
            "50/50 - 0s - loss: 0.0027\n",
            "Epoch 227/300\n",
            "50/50 - 0s - loss: 0.0026\n",
            "Epoch 228/300\n",
            "50/50 - 0s - loss: 0.0026\n",
            "Epoch 229/300\n",
            "50/50 - 0s - loss: 0.0026\n",
            "Epoch 230/300\n",
            "50/50 - 0s - loss: 0.0026\n",
            "Epoch 231/300\n",
            "50/50 - 0s - loss: 0.0026\n",
            "Epoch 232/300\n",
            "50/50 - 0s - loss: 0.0026\n",
            "Epoch 233/300\n",
            "50/50 - 0s - loss: 0.0026\n",
            "Epoch 234/300\n",
            "50/50 - 0s - loss: 0.0026\n",
            "Epoch 235/300\n",
            "50/50 - 0s - loss: 0.0026\n",
            "Epoch 236/300\n",
            "50/50 - 0s - loss: 0.0026\n",
            "Epoch 237/300\n",
            "50/50 - 0s - loss: 0.0026\n",
            "Epoch 238/300\n",
            "50/50 - 0s - loss: 0.0026\n",
            "Epoch 239/300\n",
            "50/50 - 0s - loss: 0.0026\n",
            "Epoch 240/300\n",
            "50/50 - 0s - loss: 0.0026\n",
            "Epoch 241/300\n",
            "50/50 - 0s - loss: 0.0026\n",
            "Epoch 242/300\n",
            "50/50 - 0s - loss: 0.0026\n",
            "Epoch 243/300\n",
            "50/50 - 0s - loss: 0.0026\n",
            "Epoch 244/300\n",
            "50/50 - 0s - loss: 0.0026\n",
            "Epoch 245/300\n",
            "50/50 - 0s - loss: 0.0026\n",
            "Epoch 246/300\n",
            "50/50 - 0s - loss: 0.0026\n",
            "Epoch 247/300\n",
            "50/50 - 0s - loss: 0.0026\n",
            "Epoch 248/300\n",
            "50/50 - 0s - loss: 0.0026\n",
            "Epoch 249/300\n",
            "50/50 - 0s - loss: 0.0026\n",
            "Epoch 250/300\n",
            "50/50 - 0s - loss: 0.0026\n",
            "Epoch 251/300\n",
            "50/50 - 0s - loss: 0.0026\n",
            "Epoch 252/300\n",
            "50/50 - 0s - loss: 0.0026\n",
            "Epoch 253/300\n",
            "50/50 - 0s - loss: 0.0026\n",
            "Epoch 254/300\n",
            "50/50 - 0s - loss: 0.0026\n",
            "Epoch 255/300\n",
            "50/50 - 0s - loss: 0.0026\n",
            "Epoch 256/300\n",
            "50/50 - 0s - loss: 0.0026\n",
            "Epoch 257/300\n",
            "50/50 - 0s - loss: 0.0026\n",
            "Epoch 258/300\n",
            "50/50 - 0s - loss: 0.0026\n",
            "Epoch 259/300\n",
            "50/50 - 0s - loss: 0.0026\n",
            "Epoch 260/300\n",
            "50/50 - 0s - loss: 0.0026\n",
            "Epoch 261/300\n",
            "50/50 - 0s - loss: 0.0026\n",
            "Epoch 262/300\n",
            "50/50 - 0s - loss: 0.0026\n",
            "Epoch 263/300\n",
            "50/50 - 0s - loss: 0.0026\n",
            "Epoch 264/300\n",
            "50/50 - 0s - loss: 0.0026\n",
            "Epoch 265/300\n",
            "50/50 - 0s - loss: 0.0026\n",
            "Epoch 266/300\n",
            "50/50 - 0s - loss: 0.0026\n",
            "Epoch 267/300\n",
            "50/50 - 0s - loss: 0.0026\n",
            "Epoch 268/300\n",
            "50/50 - 0s - loss: 0.0026\n",
            "Epoch 269/300\n",
            "50/50 - 0s - loss: 0.0026\n",
            "Epoch 270/300\n",
            "50/50 - 0s - loss: 0.0026\n",
            "Epoch 271/300\n",
            "50/50 - 0s - loss: 0.0026\n",
            "Epoch 272/300\n",
            "50/50 - 0s - loss: 0.0026\n",
            "Epoch 273/300\n",
            "50/50 - 0s - loss: 0.0026\n",
            "Epoch 274/300\n",
            "50/50 - 0s - loss: 0.0026\n",
            "Epoch 275/300\n",
            "50/50 - 0s - loss: 0.0026\n",
            "Epoch 276/300\n",
            "50/50 - 0s - loss: 0.0026\n",
            "Epoch 277/300\n",
            "50/50 - 0s - loss: 0.0026\n",
            "Epoch 278/300\n",
            "50/50 - 0s - loss: 0.0026\n",
            "Epoch 279/300\n",
            "50/50 - 0s - loss: 0.0026\n",
            "Epoch 280/300\n",
            "50/50 - 0s - loss: 0.0025\n",
            "Epoch 281/300\n",
            "50/50 - 0s - loss: 0.0026\n",
            "Epoch 282/300\n",
            "50/50 - 0s - loss: 0.0025\n",
            "Epoch 283/300\n",
            "50/50 - 0s - loss: 0.0026\n",
            "Epoch 284/300\n",
            "50/50 - 0s - loss: 0.0025\n",
            "Epoch 285/300\n",
            "50/50 - 0s - loss: 0.0025\n",
            "Epoch 286/300\n",
            "50/50 - 0s - loss: 0.0025\n",
            "Epoch 287/300\n",
            "50/50 - 0s - loss: 0.0025\n",
            "Epoch 288/300\n",
            "50/50 - 0s - loss: 0.0025\n",
            "Epoch 289/300\n",
            "50/50 - 0s - loss: 0.0025\n",
            "Epoch 290/300\n",
            "50/50 - 0s - loss: 0.0025\n",
            "Epoch 291/300\n",
            "50/50 - 0s - loss: 0.0025\n",
            "Epoch 292/300\n",
            "50/50 - 0s - loss: 0.0025\n",
            "Epoch 293/300\n",
            "50/50 - 0s - loss: 0.0025\n",
            "Epoch 294/300\n",
            "50/50 - 0s - loss: 0.0025\n",
            "Epoch 295/300\n",
            "50/50 - 0s - loss: 0.0025\n",
            "Epoch 296/300\n",
            "50/50 - 0s - loss: 0.0025\n",
            "Epoch 297/300\n",
            "50/50 - 0s - loss: 0.0025\n",
            "Epoch 298/300\n",
            "50/50 - 0s - loss: 0.0025\n",
            "Epoch 299/300\n",
            "50/50 - 0s - loss: 0.0025\n",
            "Epoch 300/300\n",
            "50/50 - 0s - loss: 0.0025\n"
          ],
          "name": "stdout"
        }
      ]
    },
    {
      "cell_type": "code",
      "metadata": {
        "id": "calUsCkiDS-9"
      },
      "source": [
        "# get the encoded representation\n",
        "encoded_imgs = encoder.predict(seq_X)\n",
        "Data_train = encoded_imgs[:]"
      ],
      "execution_count": 209,
      "outputs": []
    },
    {
      "cell_type": "code",
      "metadata": {
        "colab": {
          "base_uri": "https://localhost:8080/"
        },
        "id": "xvgEhrFbJrxv",
        "outputId": "9dd47520-e784-471c-de4a-5aa50e00f4cf"
      },
      "source": [
        "Data_train.shape"
      ],
      "execution_count": 210,
      "outputs": [
        {
          "output_type": "execute_result",
          "data": {
            "text/plain": [
              "(12746, 60)"
            ]
          },
          "metadata": {
            "tags": []
          },
          "execution_count": 210
        }
      ]
    },
    {
      "cell_type": "code",
      "metadata": {
        "id": "NSMtebu_SQhZ"
      },
      "source": [
        "from sklearn.model_selection import train_test_split\n",
        "from sklearn.model_selection import StratifiedShuffleSplit\n",
        "import numpy as np\n",
        "rs = 42\n",
        "test_size = 0.3\n",
        "\n",
        "X_train, X_test, y_train, y_test = train_test_split(Data_train, seq_y, \n",
        "                                                     test_size=test_size, \n",
        "                                                     shuffle=True, \n",
        "                                                     random_state=rs)"
      ],
      "execution_count": 211,
      "outputs": []
    },
    {
      "cell_type": "code",
      "metadata": {
        "id": "F6QAvZJGCBob"
      },
      "source": [
        "# Import SVM from sklearn\n",
        "from sklearn import svm\n",
        "# Instantiate a linear model based on svm\n",
        "model2 = svm.SVC(C = 1.0, kernel='linear', class_weight = None)"
      ],
      "execution_count": 212,
      "outputs": []
    },
    {
      "cell_type": "code",
      "metadata": {
        "colab": {
          "base_uri": "https://localhost:8080/"
        },
        "id": "uvPezGwVCFSd",
        "outputId": "348c9d75-aae8-4a78-a58e-dce5a72a752e"
      },
      "source": [
        "model2.fit(X_train, y_train)"
      ],
      "execution_count": 213,
      "outputs": [
        {
          "output_type": "execute_result",
          "data": {
            "text/plain": [
              "SVC(C=1.0, break_ties=False, cache_size=200, class_weight=None, coef0=0.0,\n",
              "    decision_function_shape='ovr', degree=3, gamma='scale', kernel='linear',\n",
              "    max_iter=-1, probability=False, random_state=None, shrinking=True,\n",
              "    tol=0.001, verbose=False)"
            ]
          },
          "metadata": {
            "tags": []
          },
          "execution_count": 213
        }
      ]
    },
    {
      "cell_type": "code",
      "metadata": {
        "id": "bHNlySD1KRuW"
      },
      "source": [
        "# Import Joblib for the persistence of the model\n",
        "import joblib"
      ],
      "execution_count": 214,
      "outputs": []
    },
    {
      "cell_type": "code",
      "metadata": {
        "colab": {
          "base_uri": "https://localhost:8080/"
        },
        "id": "w8oYka5LKXYj",
        "outputId": "fa673707-9ed9-4cd5-c73a-a0ea92452b77"
      },
      "source": [
        "# Save the model\n",
        "joblib.dump(model2, \"model2.pkl\")"
      ],
      "execution_count": 215,
      "outputs": [
        {
          "output_type": "execute_result",
          "data": {
            "text/plain": [
              "['model2.pkl']"
            ]
          },
          "metadata": {
            "tags": []
          },
          "execution_count": 215
        }
      ]
    },
    {
      "cell_type": "code",
      "metadata": {
        "id": "0eI4sR6gKzKs"
      },
      "source": [
        "# Load model\n",
        "model2 = joblib.load(\"model2.pkl\")"
      ],
      "execution_count": 216,
      "outputs": []
    },
    {
      "cell_type": "code",
      "metadata": {
        "id": "geX1ICQ3K3Yt"
      },
      "source": [
        "# Predict the test set\n",
        "y_pred = model2.predict(X_test)"
      ],
      "execution_count": 217,
      "outputs": []
    },
    {
      "cell_type": "code",
      "metadata": {
        "colab": {
          "base_uri": "https://localhost:8080/"
        },
        "id": "LkBP898hLbzO",
        "outputId": "02215117-30ee-4a1c-9de3-a3a10c863e25"
      },
      "source": [
        "# Import classification report from sklearn\n",
        "from sklearn.metrics import classification_report\n",
        "# Print the classification_report\n",
        "print(classification_report(y_test, y_pred, digits = 3))\n",
        "# Save the keys of the classification report dictionary \n",
        "classification_report_dict_keys = list(classification_report(y_test, y_pred, output_dict= True).keys())[:-3]"
      ],
      "execution_count": 218,
      "outputs": [
        {
          "output_type": "stream",
          "text": [
            "              precision    recall  f1-score   support\n",
            "\n",
            "        0107      0.786     0.647     0.710        17\n",
            "        0108      0.000     0.000     0.000         0\n",
            "         01B      0.740     0.514     0.607        72\n",
            "        01BC      0.545     0.400     0.462        15\n",
            "         01C      0.500     0.667     0.571         3\n",
            "       01_AE      0.940     0.998     0.968       439\n",
            "        0209      0.000     0.000     0.000         3\n",
            "        02A3      0.000     0.000     0.000         1\n",
            "        02A6      0.000     0.000     0.000         4\n",
            "         02B      0.500     0.400     0.444         5\n",
            "         02D      0.000     0.000     0.000         0\n",
            "        02F2      1.000     0.333     0.500         3\n",
            "         02G      0.400     0.400     0.400         5\n",
            "       02_AG      0.831     0.982     0.900        55\n",
            "       03_AB      1.000     1.000     1.000         1\n",
            "      04_cpx      1.000     1.000     1.000         2\n",
            "      06_cpx      1.000     1.000     1.000         2\n",
            "       07_BC      0.882     1.000     0.938        15\n",
            "       08_BC      0.917     1.000     0.957        11\n",
            "      09_cpx      1.000     1.000     1.000         1\n",
            "      11_cpx      1.000     1.000     1.000         8\n",
            "       12_BF      0.333     0.750     0.462         4\n",
            "      13_cpx      1.000     0.750     0.857         4\n",
            "       14_BG      1.000     1.000     1.000         3\n",
            "      15_01B      1.000     0.200     0.333         5\n",
            "       17_BF      0.000     0.000     0.000         4\n",
            "      18_cpx      0.667     1.000     0.800         2\n",
            "      19_cpx      0.667     1.000     0.800         2\n",
            "     22_01A1      1.000     0.833     0.909         6\n",
            "       28_BF      0.000     0.000     0.000         2\n",
            "       29_BF      0.000     0.000     0.000         0\n",
            "       35_AD      1.000     1.000     1.000         7\n",
            "       42_BF      1.000     1.000     1.000         5\n",
            "      45_cpx      0.500     0.500     0.500         2\n",
            "       46_BF      1.000     0.200     0.333         5\n",
            "       47_BF      1.000     1.000     1.000         1\n",
            "      50_A1D      1.000     1.000     1.000         1\n",
            "      51_01B      1.000     1.000     1.000         2\n",
            "      55_01B      0.000     0.000     0.000         0\n",
            "       57_BC      0.000     0.000     0.000         4\n",
            "      58_01B      1.000     0.333     0.500         3\n",
            "      59_01B      1.000     1.000     1.000         4\n",
            "       60_BC      1.000     1.000     1.000         2\n",
            "      63_02A      1.000     1.000     1.000         3\n",
            "       64_BC      0.500     1.000     0.667         2\n",
            "      65_cpx      1.000     0.667     0.800         3\n",
            "      69_01B      0.000     0.000     0.000         1\n",
            "      71_BF1      0.500     0.400     0.444         5\n",
            "      72_BF1      0.500     0.500     0.500         2\n",
            "       85_BC      0.500     1.000     0.667         1\n",
            "      90_BF1      0.000     0.000     0.000         1\n",
            "      92_C2U      0.000     0.000     0.000         3\n",
            "      94_cpx      1.000     1.000     1.000         2\n",
            "           A      0.979     0.979     0.979       236\n",
            "           B      0.980     1.000     0.990      2015\n",
            "          BC      0.786     0.407     0.537        27\n",
            "         BF1      0.625     0.431     0.510        58\n",
            "          BG      0.250     1.000     0.400         1\n",
            "           C      0.969     0.993     0.981       601\n",
            "          CD      0.812     0.722     0.765        18\n",
            "          CU      0.000     0.000     0.000         2\n",
            "           D      0.826     0.826     0.826        23\n",
            "           F      0.792     0.731     0.760        26\n",
            "           G      0.938     0.833     0.882        36\n",
            "           H      1.000     0.200     0.333         5\n",
            "           J      1.000     1.000     1.000         1\n",
            "           N      1.000     1.000     1.000         3\n",
            "           O      1.000     1.000     1.000        19\n",
            "\n",
            "    accuracy                          0.950      3824\n",
            "   macro avg      0.664     0.626     0.618      3824\n",
            "weighted avg      0.943     0.950     0.944      3824\n",
            "\n"
          ],
          "name": "stdout"
        },
        {
          "output_type": "stream",
          "text": [
            "/usr/local/lib/python3.7/dist-packages/sklearn/metrics/_classification.py:1272: UndefinedMetricWarning: Precision and F-score are ill-defined and being set to 0.0 in labels with no predicted samples. Use `zero_division` parameter to control this behavior.\n",
            "  _warn_prf(average, modifier, msg_start, len(result))\n",
            "/usr/local/lib/python3.7/dist-packages/sklearn/metrics/_classification.py:1272: UndefinedMetricWarning: Recall and F-score are ill-defined and being set to 0.0 in labels with no true samples. Use `zero_division` parameter to control this behavior.\n",
            "  _warn_prf(average, modifier, msg_start, len(result))\n"
          ],
          "name": "stderr"
        }
      ]
    }
  ]
}